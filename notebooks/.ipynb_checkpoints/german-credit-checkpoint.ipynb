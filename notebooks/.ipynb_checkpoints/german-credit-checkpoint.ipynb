{
 "cells": [
  {
   "cell_type": "code",
   "execution_count": 62,
   "metadata": {
    "collapsed": false
   },
   "outputs": [],
   "source": [
    "import torch\n",
    "from torch.autograd import Variable\n",
    "import torch.nn as nn\n",
    "import torch.nn.functional as F\n",
    "\n",
    "from torch.utils.data import TensorDataset, DataLoader\n",
    "\n",
    "import pandas as pd\n",
    "import numpy as np\n",
    "\n",
    "from sklearn.model_selection import train_test_split\n",
    "\n",
    "import matplotlib.pyplot as plt\n",
    "%matplotlib inline"
   ]
  },
  {
   "cell_type": "code",
   "execution_count": 110,
   "metadata": {
    "collapsed": true
   },
   "outputs": [],
   "source": [
    "def load_data(rand_state=1234, test_size=0.2):\n",
    "    \n",
    "    cols = ['check_account', 'duration', 'credit_history', 'purpose', 'credit_amount', 'savings_account', \n",
    "        'employment', 'installment_rate', 'personal', 'other_debtors', 'residence_since', 'property', \n",
    "        'age', 'other_plans', 'housing', 'num_existing_credits', 'job_status', 'number_liable', \n",
    "        'telephone_status', 'foreign_worker', 'credit_status']\n",
    "    df = pd.read_csv('../data/german/all.txt', delimiter=' ', names=cols)\n",
    "    \n",
    "    X = df[df.columns[:-1]]\n",
    "    X = pd.get_dummies(X) # One-hot encode categorical variables\n",
    "    \n",
    "    y = df['credit_status'] - 1\n",
    "    \n",
    "    X_train, X_test, y_train, y_test = train_test_split(X, y, test_size=test_size, random_state=rand_state, stratify=y)\n",
    "    \n",
    "    sensitive_cols = [c for c in X_train.columns if 'age' in c or 'personal' in c]\n",
    "    A_train = X_train[sensitive_cols]\n",
    "    A_test = X_test[sensitive_cols]\n",
    "    X_train = X_train.drop(sensitive_cols, axis=1)\n",
    "    X_test = X_test.drop(sensitive_cols, axis=1) \n",
    "    \n",
    "    return (X_train, y_train, A_train), (X_test, y_test, A_test)"
   ]
  },
  {
   "cell_type": "code",
   "execution_count": 115,
   "metadata": {
    "collapsed": false
   },
   "outputs": [],
   "source": [
    "(X_train, y_train, A_train), (X_test, y_test, A_test) = load_data()"
   ]
  },
  {
   "cell_type": "code",
   "execution_count": 125,
   "metadata": {
    "collapsed": false
   },
   "outputs": [],
   "source": [
    "train_dataset = TensorDataset(\n",
    "        torch.from_numpy(X_train.values).float(), \n",
    "        torch.from_numpy(y_train.values).float(),\n",
    "        torch.from_numpy(A_train.values).float())\n",
    "test_dataset = TensorDataset(\n",
    "        torch.from_numpy(X_test.values).float(), \n",
    "        torch.from_numpy(y_test.values).float(),\n",
    "        torch.from_numpy(A_test.values).float())\n",
    "train_loader = DataLoader(\n",
    "        train_dataset, batch_size=128, shuffle=True)\n",
    "test_loader = DataLoader(\n",
    "        test_dataset, batch_size=1, shuffle=False)"
   ]
  },
  {
   "cell_type": "code",
   "execution_count": 337,
   "metadata": {
    "collapsed": false
   },
   "outputs": [],
   "source": [
    "in_dim = X_train.shape[1]\n",
    "h_dim = 20\n",
    "out_dim = 1\n",
    "\n",
    "model = nn.Sequential(\n",
    "    nn.Linear(in_dim, h_dim),\n",
    "    nn.ReLU(),\n",
    "    nn.Linear(h_dim, out_dim),\n",
    "    nn.Sigmoid()\n",
    ")\n",
    "\n",
    "criterion = nn.BCELoss(reduction='none')\n",
    "optimizer = torch.optim.Adam(model.parameters(), lr=1e-3)"
   ]
  },
  {
   "cell_type": "code",
   "execution_count": 338,
   "metadata": {
    "collapsed": false
   },
   "outputs": [
    {
     "name": "stdout",
     "output_type": "stream",
     "text": [
      "[1] loss: 350.374\n",
      "[2] loss: 54.069\n",
      "[3] loss: 77.977\n",
      "[4] loss: 51.845\n",
      "[5] loss: 21.960\n",
      "[6] loss: 40.130\n",
      "[7] loss: 17.190\n",
      "[8] loss: 12.317\n",
      "[9] loss: 11.992\n",
      "[10] loss: 11.516\n",
      "[11] loss: 10.485\n",
      "[12] loss: 10.521\n",
      "[13] loss: 9.696\n",
      "[14] loss: 9.656\n",
      "[15] loss: 9.313\n",
      "[16] loss: 9.941\n",
      "[17] loss: 9.148\n",
      "[18] loss: 9.108\n",
      "[19] loss: 9.029\n",
      "[20] loss: 9.084\n"
     ]
    }
   ],
   "source": [
    "for epoch in range(10):\n",
    "    running_loss = 0.0\n",
    "    for i, data in enumerate(train_loader):\n",
    "        inputs, labels, sens = data\n",
    "        inputs, labels = Variable(inputs), Variable(labels.float())\n",
    "\n",
    "        # zero the parameter gradients\n",
    "        optimizer.zero_grad()\n",
    "\n",
    "        # forward + backward + optimize\n",
    "        outputs = model(inputs).squeeze()\n",
    "        weight = torch.ones(labels.size())\n",
    "        weight[labels == 1] = 5\n",
    "        loss = torch.mean(weight * criterion(outputs, labels))\n",
    "        loss.backward()\n",
    "        optimizer.step()\n",
    "        \n",
    "        running_loss += loss.data.item()\n",
    "    # print statistics\n",
    "    print('[%d] loss: %.3f' % (epoch + 1, running_loss))\n"
   ]
  },
  {
   "cell_type": "code",
   "execution_count": 339,
   "metadata": {
    "collapsed": false,
    "scrolled": true
   },
   "outputs": [
    {
     "data": {
      "text/plain": [
       "0.3"
      ]
     },
     "execution_count": 339,
     "metadata": {},
     "output_type": "execute_result"
    }
   ],
   "source": [
    "inputs = torch.from_numpy(X_test.values).float()\n",
    "outputs = model(inputs).squeeze().data.numpy()\n",
    "y_pred = outputs.round()\n",
    "np.mean(y_pred == y_test)"
   ]
  },
  {
   "cell_type": "code",
   "execution_count": 331,
   "metadata": {
    "collapsed": false
   },
   "outputs": [],
   "source": [
    "female = (A_test['personal_A92'] == 1)\n",
    "single = (A_test['personal_A93'] == 1)"
   ]
  },
  {
   "cell_type": "code",
   "execution_count": 332,
   "metadata": {
    "collapsed": false
   },
   "outputs": [
    {
     "data": {
      "text/plain": [
       "0.44329896907216493"
      ]
     },
     "execution_count": 332,
     "metadata": {},
     "output_type": "execute_result"
    }
   ],
   "source": [
    "np.mean(y_pred[single] == y_test[single])"
   ]
  },
  {
   "cell_type": "code",
   "execution_count": 333,
   "metadata": {
    "collapsed": false
   },
   "outputs": [
    {
     "data": {
      "text/plain": [
       "0.39805825242718446"
      ]
     },
     "execution_count": 333,
     "metadata": {},
     "output_type": "execute_result"
    }
   ],
   "source": [
    "np.mean(y_pred[~single] == y_test[~single])"
   ]
  },
  {
   "cell_type": "code",
   "execution_count": 298,
   "metadata": {
    "collapsed": false
   },
   "outputs": [
    {
     "name": "stderr",
     "output_type": "stream",
     "text": [
      "//anaconda/envs/py35/lib/python3.5/site-packages/matplotlib/axes/_axes.py:6201: RuntimeWarning: invalid value encountered in true_divide\n",
      "  m = (m.astype(float) / db) / m.sum()\n"
     ]
    },
    {
     "data": {
      "image/png": "[encoded data removed]",
      "text/plain": [
       "<matplotlib.figure.Figure at 0x11bc991d0>"
      ]
     },
     "metadata": {},
     "output_type": "display_data"
    }
   ],
   "source": [
    "import matplotlib.mlab as mlab\n",
    "import matplotlib.pyplot as plt\n",
    "\n",
    "# the histogram of the data\n",
    "n, bins, patches = plt.hist(all_ages, 40, normed=1, facecolor='green', alpha=0.75, label='Data distribution')\n",
    "n, bins, patches = plt.hist(pred_ages, 40, normed=1, facecolor='red', alpha=0.75, label='Pred distribution')\n",
    "\n",
    "plt.xlabel('Age')\n",
    "plt.ylabel('P(predicted to default)')\n",
    "plt.title('Histogram of Ages')\n",
    "plt.grid(True)\n",
    "plt.axis([15, 100, 0, 0.11])\n",
    "plt.legend()\n",
    "plt.show()"
   ]
  },
  {
   "cell_type": "code",
   "execution_count": 95,
   "metadata": {
    "collapsed": true
   },
   "outputs": [],
   "source": [
    "with open('../results/preds.txt', \"w\") as fout:\n",
    "    print(\"Id,Probability\", file=fout)\n",
    "    for i, data in enumerate(test_loader, start=1):\n",
    "        input, _ = data\n",
    "        input = Variable(input)\n",
    "\n",
    "        output = model(input).squeeze()\n",
    "        print(\"%d,%f\"%(i, output), file=fout)"
   ]
  },
  {
   "cell_type": "code",
   "execution_count": null,
   "metadata": {
    "collapsed": true
   },
   "outputs": [],
   "source": []
  }
 ],
 "metadata": {
  "anaconda-cloud": {},
  "kernelspec": {
   "display_name": "Python [py35]",
   "language": "python",
   "name": "Python [py35]"
  },
  "language_info": {
   "codemirror_mode": {
    "name": "ipython",
    "version": 3
   },
   "file_extension": ".py",
   "mimetype": "text/x-python",
   "name": "python",
   "nbconvert_exporter": "python",
   "pygments_lexer": "ipython3",
   "version": "3.5.6"
  }
 },
 "nbformat": 4,
 "nbformat_minor": 0
}
