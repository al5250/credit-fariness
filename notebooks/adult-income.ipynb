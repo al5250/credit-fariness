{
 "cells": [
  {
   "cell_type": "code",
   "execution_count": 92,
   "metadata": {
    "collapsed": false
   },
   "outputs": [],
   "source": [
    "import torch\n",
    "from torch.autograd import Variable\n",
    "import torch.nn as nn\n",
    "import torch.nn.functional as F\n",
    "\n",
    "from torch.utils.data import TensorDataset, DataLoader\n",
    "\n",
    "import pandas as pd\n",
    "import numpy as np\n",
    "\n",
    "from sklearn.model_selection import train_test_split\n",
    "from sklearn.linear_model import LogisticRegression\n",
    "from seaborn import kdeplot\n",
    "import seaborn as sns\n",
    "plt.style.use('default')\n",
    "\n",
    "import matplotlib.pyplot as plt\n",
    "%matplotlib inline"
   ]
  },
  {
   "cell_type": "code",
   "execution_count": 4,
   "metadata": {
    "collapsed": true
   },
   "outputs": [],
   "source": [
    "def load_data(rand_state=1234, test_size=0.2):\n",
    "    \n",
    "    cols = ['age', 'workclass', 'fnlwgt', 'education', 'education-num', 'marital-status', \n",
    "        'occupation', 'relationship', 'race', 'sex', 'capital-gain', 'capital-loss', \n",
    "        'hours-per-week', 'native-country', 'income']\n",
    "    df = pd.read_csv('../data/adult/adult.data', names=cols)\n",
    "    df = df.apply(lambda x: x.str.strip() if x.dtype == \"object\" else x)\n",
    "\n",
    "    sensitive_cols = ['age', 'race', 'sex']\n",
    "    quant_cols = ['fnlwgt', 'education-num', 'capital-gain', 'capital-loss', 'hours-per-week']\n",
    "    X = df[df.columns[:-1]]\n",
    "    X[quant_cols] = (X[quant_cols] - X[quant_cols].mean()) / X[quant_cols].std()\n",
    "    A = X[sensitive_cols]\n",
    "    X = X.drop(sensitive_cols, axis=1)\n",
    "    X = pd.get_dummies(X)\n",
    "    A = pd.get_dummies(A)\n",
    "        \n",
    "    y = df['income']\n",
    "    y = y.apply(lambda x: 1 if x.strip() == '>50K' else 0)\n",
    "    \n",
    "    X_train, X_test, y_train, y_test = train_test_split(X, y, test_size=test_size, random_state=rand_state, stratify=y)\n",
    "    \n",
    "    A_train = A.loc[X_train.index]\n",
    "    A_test = A.loc[X_test.index]\n",
    "    \n",
    "    return (X_train, y_train, A_train), (X_test, y_test, A_test)"
   ]
  },
  {
   "cell_type": "code",
   "execution_count": 5,
   "metadata": {
    "collapsed": false
   },
   "outputs": [
    {
     "name": "stderr",
     "output_type": "stream",
     "text": [
      "//anaconda/envs/py35/lib/python3.5/site-packages/pandas/core/frame.py:2352: SettingWithCopyWarning: \n",
      "A value is trying to be set on a copy of a slice from a DataFrame.\n",
      "Try using .loc[row_indexer,col_indexer] = value instead\n",
      "\n",
      "See the caveats in the documentation: http://pandas.pydata.org/pandas-docs/stable/indexing.html#indexing-view-versus-copy\n",
      "  self[k1] = value[k2]\n"
     ]
    }
   ],
   "source": [
    "(X_train, y_train, A_train), (X_test, y_test, A_test) = load_data()"
   ]
  },
  {
   "cell_type": "code",
   "execution_count": 6,
   "metadata": {
    "collapsed": false
   },
   "outputs": [
    {
     "data": {
      "text/plain": [
       "sex_Male  income\n",
       "0         0         0.891590\n",
       "          1         0.108410\n",
       "1         0         0.693943\n",
       "          1         0.306057\n",
       "dtype: float64"
      ]
     },
     "execution_count": 6,
     "metadata": {},
     "output_type": "execute_result"
    }
   ],
   "source": [
    "y_train.groupby([A_train['sex_Male'], y_train]).count() / A_train['sex_Male'].groupby(A_train['sex_Male']).count()"
   ]
  },
  {
   "cell_type": "code",
   "execution_count": 7,
   "metadata": {
    "collapsed": false
   },
   "outputs": [],
   "source": [
    "train_dataset = TensorDataset(\n",
    "        torch.from_numpy(X_train.values).float(), \n",
    "        torch.from_numpy(y_train.values).float(),\n",
    "        torch.from_numpy(A_train.values).float())\n",
    "train_loader = DataLoader(\n",
    "        train_dataset, batch_size=1024, shuffle=True)"
   ]
  },
  {
   "cell_type": "code",
   "execution_count": 64,
   "metadata": {
    "collapsed": false
   },
   "outputs": [],
   "source": [
    "in_dim = X_train.shape[1]\n",
    "h_dim = 64\n",
    "out_dim = 1\n",
    "\n",
    "model = nn.Sequential(\n",
    "    nn.Linear(in_dim, h_dim),\n",
    "    nn.ReLU(),\n",
    "    nn.Linear(h_dim, out_dim),\n",
    "    nn.Sigmoid()\n",
    ")\n",
    "\n",
    "criterion = nn.BCELoss()\n",
    "optimizer = torch.optim.Adam(model.parameters(), lr=1e-3)"
   ]
  },
  {
   "cell_type": "code",
   "execution_count": 65,
   "metadata": {
    "collapsed": false
   },
   "outputs": [
    {
     "data": {
      "text/plain": [
       "Sequential(\n",
       "  (0): Linear(in_features=100, out_features=64, bias=True)\n",
       "  (1): ReLU()\n",
       "  (2): Linear(in_features=64, out_features=1, bias=True)\n",
       "  (3): Sigmoid()\n",
       ")"
      ]
     },
     "execution_count": 65,
     "metadata": {},
     "output_type": "execute_result"
    }
   ],
   "source": [
    "model"
   ]
  },
  {
   "cell_type": "code",
   "execution_count": 66,
   "metadata": {
    "collapsed": false
   },
   "outputs": [
    {
     "name": "stdout",
     "output_type": "stream",
     "text": [
      "[ 1] loss: 0.626 | acc: 0.762\n",
      "[ 2] loss: 0.502 | acc: 0.791\n",
      "[ 3] loss: 0.401 | acc: 0.829\n",
      "[ 4] loss: 0.355 | acc: 0.840\n",
      "[ 5] loss: 0.339 | acc: 0.845\n",
      "[ 6] loss: 0.332 | acc: 0.847\n",
      "[ 7] loss: 0.328 | acc: 0.849\n",
      "[ 8] loss: 0.325 | acc: 0.851\n",
      "[ 9] loss: 0.323 | acc: 0.852\n",
      "[10] loss: 0.321 | acc: 0.851\n",
      "[11] loss: 0.320 | acc: 0.853\n",
      "[12] loss: 0.319 | acc: 0.852\n",
      "[13] loss: 0.319 | acc: 0.851\n",
      "[14] loss: 0.318 | acc: 0.852\n",
      "[15] loss: 0.317 | acc: 0.853\n",
      "[16] loss: 0.317 | acc: 0.853\n",
      "[17] loss: 0.317 | acc: 0.853\n",
      "[18] loss: 0.316 | acc: 0.854\n",
      "[19] loss: 0.316 | acc: 0.853\n",
      "[20] loss: 0.316 | acc: 0.853\n"
     ]
    }
   ],
   "source": [
    "for epoch in range(20):\n",
    "    running_loss = 0.0\n",
    "    total_correct = 0\n",
    "    total_size = 0\n",
    "    for i, data in enumerate(train_loader):\n",
    "        inputs, labels, sens = data\n",
    "        inputs, labels = Variable(inputs), Variable(labels.float())\n",
    "\n",
    "        # zero the parameter gradients\n",
    "        optimizer.zero_grad()\n",
    "\n",
    "        # forward + backward + optimize\n",
    "        outputs = model(inputs).squeeze()\n",
    "        batch_size = outputs.shape[0]\n",
    "        loss = criterion(outputs, labels)\n",
    "        total_size += batch_size\n",
    "        total_correct += torch.sum(outputs.round() == labels).item()\n",
    "        loss.backward()\n",
    "        optimizer.step()\n",
    "\n",
    "        running_loss += loss.data.item() * batch_size\n",
    "    # print statistics\n",
    "    print('[%2d] loss: %.3f | acc: %.3f' % (epoch + 1, running_loss / total_size, total_correct / total_size))\n"
   ]
  },
  {
   "cell_type": "code",
   "execution_count": 204,
   "metadata": {
    "collapsed": false,
    "scrolled": true
   },
   "outputs": [
    {
     "data": {
      "text/plain": [
       "0.8484569322892677"
      ]
     },
     "execution_count": 204,
     "metadata": {},
     "output_type": "execute_result"
    }
   ],
   "source": [
    "inputs = torch.from_numpy(X_test.values).float()\n",
    "outputs = model(inputs).squeeze().data.numpy()\n",
    "y_pred = outputs.round()\n",
    "np.mean(y_pred == y_test)"
   ]
  },
  {
   "cell_type": "code",
   "execution_count": 205,
   "metadata": {
    "collapsed": false
   },
   "outputs": [],
   "source": [
    "female = (A_test['sex_Female'] == 1)\n",
    "white = (A_test['race_White'] == 1)"
   ]
  },
  {
   "cell_type": "code",
   "execution_count": 207,
   "metadata": {
    "collapsed": false
   },
   "outputs": [
    {
     "data": {
      "image/png": "[encoded data removed]",
      "text/plain": [
       "<matplotlib.figure.Figure at 0x12c9efa90>"
      ]
     },
     "metadata": {},
     "output_type": "display_data"
    }
   ],
   "source": [
    "fig, ax = plt.subplots(1, 2, figsize=(8, 4))\n",
    "\n",
    "kdeplot(outputs[~white], shade=True, ax=ax[0], label=\"Minorities\")\n",
    "kdeplot(outputs[white], shade=True, ax=ax[0], label='White')\n",
    "ax[0].axvline(outputs[~white].mean(), ls='--', c='b')\n",
    "ax[0].axvline(outputs[white].mean(), ls='--', c='orange')\n",
    "ax[0].set_title('Income Prediction based on race')\n",
    "ax[0].set_xlim([0, 1])\n",
    "ax[0].set_ylim([0, 7])\n",
    "ax[0].set_ylabel('Frequency')\n",
    "ax[0].set_xlabel('Prediction Probability')\n",
    "#ax[0].legend(['white', 'minorities'])\n",
    "\n",
    "kdeplot(outputs[female], shade=True, ax=ax[1], label='Female')\n",
    "kdeplot(outputs[~female], shade=True, ax=ax[1], label='Male')\n",
    "ax[1].axvline(outputs[female].mean(), ls='--', c='b')\n",
    "ax[1].axvline(outputs[~female].mean(), ls='--', c='orange')\n",
    "ax[1].set_title('Income Prediction based on sex')\n",
    "ax[1].set_xlim([0, 1])\n",
    "ax[1].set_ylim([0, 7])\n",
    "ax[1].set_ylabel('Frequency')\n",
    "ax[1].set_xlabel('Prediction Probability')\n",
    "fig.tight_layout()\n",
    "plt.savefig('vanilla-bias.pdf', bbox_inches='tight')"
   ]
  },
  {
   "cell_type": "code",
   "execution_count": 152,
   "metadata": {
    "collapsed": false
   },
   "outputs": [
    {
     "data": {
      "text/plain": [
       "0.41824043"
      ]
     },
     "execution_count": 152,
     "metadata": {},
     "output_type": "execute_result"
    }
   ],
   "source": [
    "outputs[female].mean() / outputs[~female].mean()"
   ]
  },
  {
   "cell_type": "code",
   "execution_count": 76,
   "metadata": {
    "collapsed": false
   },
   "outputs": [],
   "source": [
    "#fig, ax = plt.subplots(1, 2, figsize=(8, 4)) \n",
    "\n",
    "#ax[0].hist(outputs[~female], normed=True, alpha=0.6, color='red')\n",
    "# ax[0].legend(['Male', 'Male Average'])\n",
    "# ax[0].set_ylim([0, 8])\n",
    "# ax[0].set_xlabel('Estimated Probability of >50K')\n",
    "# ax[0].axvline(outputs[~female].mean(), color='black', ls='--')\n",
    "# ax[0].set_ylabel('Relative Frequency')\n",
    "# ax[1].hist(outputs[female], normed=True, alpha=0.6, color='blue')\n",
    "# ax[1].legend(['Female', 'Female Average'])\n",
    "# ax[1].set_xlabel('Estimated Probability of >50K')\n",
    "# ax[1].set_ylim([0, 8])\n",
    "# ax[1].axvline(outputs[female].mean(), color='black', ls='--')\n",
    "# ax[1].set_ylabel('Relative Frequency')\n",
    "#plt.savefig('vanilla-bias.pdf', bbox_inches='tight')"
   ]
  },
  {
   "cell_type": "code",
   "execution_count": 16,
   "metadata": {
    "collapsed": false
   },
   "outputs": [
    {
     "data": {
      "text/plain": [
       "0.12484254"
      ]
     },
     "execution_count": 16,
     "metadata": {},
     "output_type": "execute_result"
    }
   ],
   "source": [
    "outputs[female].mean()"
   ]
  },
  {
   "cell_type": "code",
   "execution_count": 17,
   "metadata": {
    "collapsed": false
   },
   "outputs": [
    {
     "data": {
      "text/plain": [
       "0.29983118"
      ]
     },
     "execution_count": 17,
     "metadata": {},
     "output_type": "execute_result"
    }
   ],
   "source": [
    "outputs[~female].mean()"
   ]
  },
  {
   "cell_type": "code",
   "execution_count": 18,
   "metadata": {
    "collapsed": false
   },
   "outputs": [
    {
     "data": {
      "text/plain": [
       "(6513,)"
      ]
     },
     "execution_count": 18,
     "metadata": {},
     "output_type": "execute_result"
    }
   ],
   "source": [
    "outputs.shape"
   ]
  },
  {
   "cell_type": "code",
   "execution_count": 19,
   "metadata": {
    "collapsed": false
   },
   "outputs": [
    {
     "data": {
      "text/plain": [
       "(26048, 100)"
      ]
     },
     "execution_count": 19,
     "metadata": {},
     "output_type": "execute_result"
    }
   ],
   "source": [
    "X_train.shape"
   ]
  },
  {
   "cell_type": "markdown",
   "metadata": {},
   "source": [
    "## Sex"
   ]
  },
  {
   "cell_type": "code",
   "execution_count": 169,
   "metadata": {
    "collapsed": true
   },
   "outputs": [],
   "source": [
    "## Adapted this paper to work with neural nets: https://people.mpi-sws.org/~gummadi/papers/disparate_impact_AISTATS_2017.pdf"
   ]
  },
  {
   "cell_type": "code",
   "execution_count": 170,
   "metadata": {
    "collapsed": false
   },
   "outputs": [
    {
     "name": "stdout",
     "output_type": "stream",
     "text": [
      "0.1\n",
      "0.03\n",
      "0.01\n",
      "0.003\n",
      "0.001\n",
      "0.0003\n",
      "0.0001\n"
     ]
    }
   ],
   "source": [
    "model2s = []\n",
    "for reg in [3e-2, 1e-2, 3e-3, 1e-3, 3e-4, 1e-4]:\n",
    "    \n",
    "    print(reg)\n",
    "    model2 = nn.Sequential(\n",
    "        nn.Linear(in_dim, h_dim),\n",
    "        nn.ReLU(),\n",
    "        nn.Linear(h_dim, out_dim),\n",
    "    )\n",
    "\n",
    "    criterion2 = nn.BCELoss()\n",
    "    optimizer2 = torch.optim.Adam(model2.parameters(), lr=1e-3)\n",
    "\n",
    "    for epoch in range(20):\n",
    "        running_loss = 0.0\n",
    "        total_correct = 0\n",
    "        total_size = 0\n",
    "        for i, data in enumerate(train_loader):\n",
    "            inputs, labels, sens = data\n",
    "            inputs, labels, sens = Variable(inputs), Variable(labels.float()), Variable(sens)\n",
    "            z = sens[:, -1]\n",
    "\n",
    "            # zero the parameter gradients\n",
    "            optimizer2.zero_grad()\n",
    "\n",
    "            # forward + backward + optimize\n",
    "            outputs = model2(inputs).squeeze()\n",
    "            batch_size = outputs.shape[0]\n",
    "            output_probs = torch.sigmoid(outputs)\n",
    "            loss = criterion2(output_probs, labels) + reg * torch.abs(torch.sum((z - z.mean()) * outputs))\n",
    "            total_size += batch_size\n",
    "            total_correct += torch.sum(output_probs.round() == labels).item()\n",
    "            loss.backward()\n",
    "            optimizer2.step()\n",
    "\n",
    "            running_loss += loss.data.item() * batch_size\n",
    "        # print statistics\n",
    "        # print('[%2d] loss: %.3f | acc: %.3f' % (epoch + 1, running_loss / total_size, total_correct / total_size))\n",
    "        \n",
    "    model2s.append(model2)\n"
   ]
  },
  {
   "cell_type": "markdown",
   "metadata": {},
   "source": [
    "## Race"
   ]
  },
  {
   "cell_type": "code",
   "execution_count": 234,
   "metadata": {
    "collapsed": false
   },
   "outputs": [
    {
     "name": "stdout",
     "output_type": "stream",
     "text": [
      "0.03\n",
      "0.01\n",
      "0.003\n",
      "0.001\n",
      "0.0003\n",
      "0.0001\n"
     ]
    }
   ],
   "source": [
    "model2s_race = []\n",
    "for reg in [3e-2, 1e-2, 3e-3, 1e-3, 3e-4, 1e-4]:\n",
    "    \n",
    "    print(reg)\n",
    "    model2 = nn.Sequential(\n",
    "        nn.Linear(in_dim, h_dim),\n",
    "        nn.ReLU(),\n",
    "        nn.Linear(h_dim, out_dim),\n",
    "    )\n",
    "\n",
    "    criterion2 = nn.BCELoss()\n",
    "    optimizer2 = torch.optim.Adam(model2.parameters(), lr=1e-3)\n",
    "\n",
    "    for epoch in range(20):\n",
    "        running_loss = 0.0\n",
    "        total_correct = 0\n",
    "        total_size = 0\n",
    "        for i, data in enumerate(train_loader):\n",
    "            inputs, labels, sens = data\n",
    "            inputs, labels, sens = Variable(inputs), Variable(labels.float()), Variable(sens)\n",
    "            z = sens[:, 5]\n",
    "\n",
    "            # zero the parameter gradients\n",
    "            optimizer2.zero_grad()\n",
    "\n",
    "            # forward + backward + optimize\n",
    "            outputs = model2(inputs).squeeze()\n",
    "            batch_size = outputs.shape[0]\n",
    "            output_probs = torch.sigmoid(outputs)\n",
    "            loss = criterion2(output_probs, labels) + reg * torch.abs(torch.sum((z - z.mean()) * outputs))\n",
    "            total_size += batch_size\n",
    "            total_correct += torch.sum(output_probs.round() == labels).item()\n",
    "            loss.backward()\n",
    "            optimizer2.step()\n",
    "\n",
    "            running_loss += loss.data.item() * batch_size\n",
    "        # print statistics\n",
    "        # print('[%2d] loss: %.3f | acc: %.3f' % (epoch + 1, running_loss / total_size, total_correct / total_size))\n",
    "        \n",
    "    model2s_race.append(model2)\n"
   ]
  },
  {
   "cell_type": "code",
   "execution_count": 225,
   "metadata": {
    "collapsed": false
   },
   "outputs": [],
   "source": [
    "test_acc = []\n",
    "train_acc = []\n",
    "train_bce = []\n",
    "test_p = []\n",
    "train_p = []\n",
    "\n",
    "for model2 in model2s:\n",
    "    \n",
    "    inputs = torch.from_numpy(X_test.values).float()\n",
    "    output_probs = torch.sigmoid(model2(inputs)).squeeze().data.numpy()\n",
    "    y_pred = output_probs.round()\n",
    "\n",
    "    female = (A_test['sex_Female'] == 1)\n",
    "    test_acc.append(np.mean(y_pred == y_test))\n",
    "    p = output_probs[female].mean() / output_probs[~female].mean()\n",
    "    if np.isnan(p):\n",
    "        test_p.append(1)\n",
    "    else:\n",
    "        test_p.append(p)\n",
    "    \n",
    "    inputs = torch.from_numpy(X_train.values).float()\n",
    "    output_probs = torch.sigmoid(model2(inputs)).squeeze().data.numpy()\n",
    "    y_pred = output_probs.round()\n",
    "\n",
    "    female = (A_train['sex_Female'] == 1)\n",
    "    train_acc.append(np.mean(y_pred == y_train))\n",
    "    p = output_probs[female].mean() / output_probs[~female].mean()\n",
    "    if np.isnan(p):\n",
    "        train_p.append(1)\n",
    "    else:\n",
    "        train_p.append(p)\n",
    "    train_bce.append(-np.mean(y_train * np.log(output_probs) + (1 - y_train) * np.log(1 - output_probs)))\n"
   ]
  },
  {
   "cell_type": "code",
   "execution_count": 235,
   "metadata": {
    "collapsed": false
   },
   "outputs": [
    {
     "name": "stderr",
     "output_type": "stream",
     "text": [
      "//anaconda/envs/py35/lib/python3.5/site-packages/ipykernel/__main__.py:32: RuntimeWarning: divide by zero encountered in log\n"
     ]
    }
   ],
   "source": [
    "test_acc = []\n",
    "train_acc = []\n",
    "train_bce = []\n",
    "test_p = []\n",
    "train_p = []\n",
    "\n",
    "for model2 in model2s_race:\n",
    "    \n",
    "    inputs = torch.from_numpy(X_test.values).float()\n",
    "    output_probs = torch.sigmoid(model2(inputs)).squeeze().data.numpy()\n",
    "    y_pred = output_probs.round()\n",
    "\n",
    "    minority = (A_test['race_White'] == 0)\n",
    "    test_acc.append(np.mean(y_pred == y_test))\n",
    "    p = output_probs[minority].mean() / output_probs[~minority].mean()\n",
    "    if np.isnan(p):\n",
    "        test_p.append(1)\n",
    "    else:\n",
    "        test_p.append(p)\n",
    "    \n",
    "    inputs = torch.from_numpy(X_train.values).float()\n",
    "    output_probs = torch.sigmoid(model2(inputs)).squeeze().data.numpy()\n",
    "    y_pred = output_probs.round()\n",
    "\n",
    "    minority = (A_train['race_White'] == 0)\n",
    "    train_acc.append(np.mean(y_pred == y_train))\n",
    "    p = output_probs[minority].mean() / output_probs[~minority].mean()\n",
    "    if np.isnan(p):\n",
    "        train_p.append(1)\n",
    "    else:\n",
    "        train_p.append(p)\n",
    "    train_bce.append(-np.mean(y_train * np.log(output_probs) + (1 - y_train) * np.log(1 - output_probs)))\n"
   ]
  },
  {
   "cell_type": "code",
   "execution_count": 236,
   "metadata": {
    "collapsed": false
   },
   "outputs": [
    {
     "data": {
      "text/plain": [
       "[(0.7591753685503686, 0.99448454, 0.7592507293106096, 0.99627215),\n",
       " (0.8192951474201474, 0.96665794, 0.8215875940426839, 0.96048564),\n",
       " (0.8458230958230958, 0.9371603, 0.8413941348073085, 0.9133014),\n",
       " (0.8481265356265356, 0.9297966, 0.8453861507753724, 0.9089372),\n",
       " (0.8523495085995086, 0.8219881, 0.8461538461538461, 0.8093397),\n",
       " (0.8533476658476659, 0.70654064, 0.8492246276677414, 0.6999537)]"
      ]
     },
     "execution_count": 236,
     "metadata": {},
     "output_type": "execute_result"
    }
   ],
   "source": [
    "list(zip(train_acc, train_p, test_acc, test_p))"
   ]
  },
  {
   "cell_type": "code",
   "execution_count": 238,
   "metadata": {
    "collapsed": false
   },
   "outputs": [
    {
     "data": {
      "image/png": "[encoded data removed]",
      "text/plain": [
       "<matplotlib.figure.Figure at 0x1295af470>"
      ]
     },
     "metadata": {},
     "output_type": "display_data"
    }
   ],
   "source": [
    "fig, ax = plt.subplots(1, 2, figsize=(8, 4))\n",
    "ax[0].plot(train_p, train_acc, '--o')\n",
    "ax[0].set_xlabel('Level of Demographic Parity for Race ($q$)')\n",
    "ax[0].set_ylabel('Accuracy')\n",
    "ax[0].set_title('Training Set')\n",
    "\n",
    "ax[1].set_title('Test Set')\n",
    "ax[1].plot(test_p, test_acc, '--o')\n",
    "ax[1].set_xlabel('Level of Demographic Parity for Race ($q$)')\n",
    "ax[1].set_ylabel('Accuracy')\n",
    "\n",
    "fig.tight_layout()\n",
    "plt.savefig('boundary-tradeoff-race.pdf', bbox_inches='tight')"
   ]
  },
  {
   "cell_type": "code",
   "execution_count": 179,
   "metadata": {
    "collapsed": false
   },
   "outputs": [
    {
     "data": {
      "text/plain": [
       "<matplotlib.text.Text at 0x1216122e8>"
      ]
     },
     "execution_count": 179,
     "metadata": {},
     "output_type": "execute_result"
    },
    {
     "data": {
      "image/png": "[encoded data removed]",
      "text/plain": [
       "<matplotlib.figure.Figure at 0x127f61278>"
      ]
     },
     "metadata": {},
     "output_type": "display_data"
    }
   ],
   "source": [
    "inputs = torch.from_numpy(X_test.values).float()\n",
    "outputs = torch.sigmoid(model2s[3](inputs)).squeeze().data.numpy()\n",
    "female = (A_test['sex_Female'] == 1)\n",
    "\n",
    "fig, ax = plt.subplots(1, 2, figsize=(8, 4)) \n",
    "ax[0].hist(outputs[~female], normed=True, alpha=0.6, color='red')\n",
    "ax[0].legend(['Male', 'Male Average'])\n",
    "ax[0].set_ylim([0, 4])\n",
    "ax[0].set_xlabel('Estimated Probability of >50K')\n",
    "ax[0].axvline(outputs[~female].mean(), color='black', ls='--')\n",
    "ax[0].set_ylabel('Relative Frequency')\n",
    "ax[1].hist(outputs[female], normed=True, alpha=0.6, color='blue')\n",
    "ax[1].legend(['Female', 'Female Average'])\n",
    "ax[1].set_xlabel('Estimated Probability of >50K')\n",
    "ax[1].set_ylim([0, 4])\n",
    "ax[1].axvline(outputs[female].mean(), color='black', ls='--')\n",
    "ax[1].set_ylabel('Relative Frequency')\n",
    "#plt.savefig('vanilla-bias.pdf', bbox_inches='tight')"
   ]
  },
  {
   "cell_type": "code",
   "execution_count": 248,
   "metadata": {
    "collapsed": false
   },
   "outputs": [
    {
     "data": {
      "image/png": "[encoded data removed]",
      "text/plain": [
       "<matplotlib.figure.Figure at 0x127c1b860>"
      ]
     },
     "metadata": {},
     "output_type": "display_data"
    }
   ],
   "source": [
    "inputs = torch.from_numpy(X_test.values).float()\n",
    "outputs1 = torch.sigmoid(model2s[2](inputs)).squeeze().data.numpy()\n",
    "outputs2 = torch.sigmoid(model2s_race[2](inputs)).squeeze().data.numpy()\n",
    "female = (A_test['sex_Female'] == 1)\n",
    "minority = (A_test['race_White'] == 0)\n",
    "\n",
    "fig, ax = plt.subplots(1, 2, figsize=(8, 4))\n",
    "\n",
    "kdeplot(outputs2[minority], shade=True, ax=ax[0], label=\"Minorities\")\n",
    "kdeplot(outputs2[~minority], shade=True, ax=ax[0], label='White')\n",
    "ax[0].axvline(outputs2[minority].mean(), ls='--', c='b')\n",
    "ax[0].axvline(outputs2[~minority].mean(), ls='--', c='orange')\n",
    "ax[0].set_title('Income Prediction based on race')\n",
    "ax[0].set_xlim([0, 1])\n",
    "ax[0].set_ylim([0, 7])\n",
    "#ax[0].legend(['white', 'minorities'])\n",
    "\n",
    "kdeplot(outputs1[female], shade=True, ax=ax[1], label='Female')\n",
    "kdeplot(outputs1[~female], shade=True, ax=ax[1], label='Male')\n",
    "ax[1].axvline(outputs1[female].mean(), ls='--', c='b')\n",
    "ax[1].axvline(outputs1[~female].mean(), ls='--', c='orange')\n",
    "ax[1].set_title('Income Prediction based on sex')\n",
    "ax[1].set_xlim([0, 1])\n",
    "ax[1].set_ylim([0, 7])\n",
    "#plt.savefig('boundary-bias.pdf', bbox_inches='tight')"
   ]
  },
  {
   "cell_type": "code",
   "execution_count": 487,
   "metadata": {
    "collapsed": false
   },
   "outputs": [
    {
     "name": "stdout",
     "output_type": "stream",
     "text": [
      "0.11538909\n",
      "0.1664661\n"
     ]
    }
   ],
   "source": [
    "inputs = torch.from_numpy(X_train.values).float()\n",
    "output_probs = torch.sigmoid(model2(inputs)).squeeze().data.numpy()\n",
    "y_pred = output_probs.round()\n",
    "np.mean(y_pred == y_train)\n",
    "\n",
    "female = (A_train['sex_Female'] == 1)\n",
    "print(y_pred[female].mean())\n",
    "print(y_pred[~female].mean())"
   ]
  },
  {
   "cell_type": "code",
   "execution_count": null,
   "metadata": {
    "collapsed": true
   },
   "outputs": [],
   "source": [
    "female = (A_test['sex_Female'] == 1)\n",
    "black = (A_test['race_Black'] == 1)\n",
    "white = (A_test['race_White'] == 1)"
   ]
  },
  {
   "cell_type": "code",
   "execution_count": 298,
   "metadata": {
    "collapsed": false
   },
   "outputs": [
    {
     "name": "stderr",
     "output_type": "stream",
     "text": [
      "//anaconda/envs/py35/lib/python3.5/site-packages/matplotlib/axes/_axes.py:6201: RuntimeWarning: invalid value encountered in true_divide\n",
      "  m = (m.astype(float) / db) / m.sum()\n"
     ]
    },
    {
     "data": {
      "image/png": "[encoded data removed]",
      "text/plain": [
       "<matplotlib.figure.Figure at 0x11bc991d0>"
      ]
     },
     "metadata": {},
     "output_type": "display_data"
    }
   ],
   "source": [
    "import matplotlib.mlab as mlab\n",
    "import matplotlib.pyplot as plt\n",
    "\n",
    "# the histogram of the data\n",
    "n, bins, patches = plt.hist(all_ages, 40, normed=1, facecolor='green', alpha=0.75, label='Data distribution')\n",
    "n, bins, patches = plt.hist(pred_ages, 40, normed=1, facecolor='red', alpha=0.75, label='Pred distribution')\n",
    "\n",
    "plt.xlabel('Age')\n",
    "plt.ylabel('P(predicted to default)')\n",
    "plt.title('Histogram of Ages')\n",
    "plt.grid(True)\n",
    "plt.axis([15, 100, 0, 0.11])\n",
    "plt.legend()\n",
    "plt.show()"
   ]
  },
  {
   "cell_type": "code",
   "execution_count": 95,
   "metadata": {
    "collapsed": true
   },
   "outputs": [],
   "source": [
    "with open('../results/preds.txt', \"w\") as fout:\n",
    "    print(\"Id,Probability\", file=fout)\n",
    "    for i, data in enumerate(test_loader, start=1):\n",
    "        input, _ = data\n",
    "        input = Variable(input)\n",
    "\n",
    "        output = model(input).squeeze()\n",
    "        print(\"%d,%f\"%(i, output), file=fout)"
   ]
  },
  {
   "cell_type": "code",
   "execution_count": null,
   "metadata": {
    "collapsed": true
   },
   "outputs": [],
   "source": []
  }
 ],
 "metadata": {
  "anaconda-cloud": {},
  "kernelspec": {
   "display_name": "Python [py35]",
   "language": "python",
   "name": "Python [py35]"
  },
  "language_info": {
   "codemirror_mode": {
    "name": "ipython",
    "version": 3
   },
   "file_extension": ".py",
   "mimetype": "text/x-python",
   "name": "python",
   "nbconvert_exporter": "python",
   "pygments_lexer": "ipython3",
   "version": "3.5.6"
  }
 },
 "nbformat": 4,
 "nbformat_minor": 0
}
